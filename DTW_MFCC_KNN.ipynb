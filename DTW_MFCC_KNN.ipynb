{
 "cells": [
  {
   "cell_type": "markdown",
   "metadata": {},
   "source": [
    "# Load required libraries"
   ]
  },
  {
   "cell_type": "code",
   "execution_count": 9,
   "metadata": {
    "collapsed": false
   },
   "outputs": [],
   "source": [
    "import time\n",
    "import librosa\n",
    "from dtw import dtw\n",
    "import librosa.display\n",
    "from scipy.spatial.distance import cdist"
   ]
  },
  {
   "cell_type": "markdown",
   "metadata": {},
   "source": [
    "# Load two sample audio data to memory"
   ]
  },
  {
   "cell_type": "code",
   "execution_count": 3,
   "metadata": {
    "collapsed": false
   },
   "outputs": [],
   "source": [
    "y1, sr1 = librosa.load('train/fcmc0-a1-t.wav')\n",
    "y2, sr2 = librosa.load('train/fcmc0-b1-t.wav')"
   ]
  },
  {
   "cell_type": "markdown",
   "metadata": {},
   "source": [
    "# Calculate MFCC features and plot on graph"
   ]
  },
  {
   "cell_type": "code",
   "execution_count": 4,
   "metadata": {
    "collapsed": false
   },
   "outputs": [
    {
     "name": "stdout",
     "output_type": "stream",
     "text": [
      "Populating the interactive namespace from numpy and matplotlib\n"
     ]
    },
    {
     "data": {
      "text/plain": [
       "<matplotlib.axes._subplots.AxesSubplot at 0x7f02ad8a0ef0>"
      ]
     },
     "execution_count": 4,
     "metadata": {},
     "output_type": "execute_result"
    },
    {
     "data": {
      "image/png": "[encoded data removed]",
      "text/plain": [
       "<matplotlib.figure.Figure at 0x7f02afb4f978>"
      ]
     },
     "metadata": {},
     "output_type": "display_data"
    }
   ],
   "source": [
    "%pylab inline\n",
    "subplot(1, 2, 1)\n",
    "mfcc1 = librosa.feature.mfcc(y1, sr1)\n",
    "librosa.display.specshow(mfcc1)\n",
    "\n",
    "subplot(1, 2, 2)\n",
    "mfcc2 = librosa.feature.mfcc(y2, sr2)\n",
    "librosa.display.specshow(mfcc2)"
   ]
  },
  {
   "cell_type": "code",
   "execution_count": 6,
   "metadata": {
    "collapsed": false
   },
   "outputs": [
    {
     "name": "stdout",
     "output_type": "stream",
     "text": [
      "Normalized distance between the two sounds: 141.228637029\n"
     ]
    }
   ],
   "source": [
    "# Calculate the DTW between the 2 sample audios 'a' and 'b'\n",
    "dist, cost, path, _ = dtw(mfcc1.T, mfcc2.T, dist=lambda x, y: norm(x - y, ord=1))\n",
    "print('Normalized distance between the two sounds:', dist)   "
   ]
  },
  {
   "cell_type": "markdown",
   "metadata": {},
   "source": [
    "# Main Program"
   ]
  },
  {
   "cell_type": "code",
   "execution_count": 7,
   "metadata": {
    "collapsed": false
   },
   "outputs": [],
   "source": [
    "import os\n",
    "dirname = \"train\"\n",
    "files = [f for f in os.listdir(dirname) if not f.startswith('.')]"
   ]
  },
  {
   "cell_type": "markdown",
   "metadata": {},
   "source": [
    "The following code Iterates through the Training folder and builds the trained representation in the Distance matrix"
   ]
  },
  {
   "cell_type": "code",
   "execution_count": 13,
   "metadata": {
    "collapsed": false
   },
   "outputs": [
    {
     "name": "stdout",
     "output_type": "stream",
     "text": [
      "Time used: 160.74331600000002s\n"
     ]
    }
   ],
   "source": [
    "start = time.clock()\n",
    "minval = 200\n",
    "distances = ones((len(files), len(files)))\n",
    "y = ones(len(files))\n",
    "\n",
    "for i in range(len(files)):\n",
    "    y1, sr1 = librosa.load(dirname+\"/\"+files[i])\n",
    "    mfcc1 = librosa.feature.mfcc(y1, sr1)\n",
    "    for j in range(len(files)):\n",
    "        y2, sr2 = librosa.load(dirname+\"/\"+files[j])\n",
    "        mfcc2 = librosa.feature.mfcc(y2, sr2)\n",
    "        dist, _, _, _ = dtw(mfcc1.T, mfcc2.T, dist=lambda x, y: norm(x - y, ord=1))\n",
    "#         print files[i],mfcc1.T[0][0],mfcc2.T[0][0],files[j],dist\n",
    "#         if dist<minval:\n",
    "#             minval = dist\n",
    "        distances[i,j] = dist\n",
    "    if i%2==0:\n",
    "        y[i] = 0  #'a'\n",
    "    else:\n",
    "        y[i] = 1  #'b'\n",
    "print(\"Time used: {}s\".format(time.clock()-start))"
   ]
  },
  {
   "cell_type": "code",
   "execution_count": 14,
   "metadata": {
    "collapsed": false
   },
   "outputs": [
    {
     "data": {
      "text/plain": [
       "array([   0.        ,  141.22863703,  163.99821788,  192.95202935,\n",
       "        151.85852349,  170.48576354,  135.5725408 ,  152.26686475,\n",
       "        145.76102835,  193.40727232,  137.6427781 ,  161.33156836,\n",
       "        164.65027339,  167.04712037,  176.97619763,  181.20389263,\n",
       "        141.65409762,  168.92626794,  148.07675071,  191.99366183,\n",
       "        152.1781625 ,  193.17680236,  192.36134112,  199.68962323])"
      ]
     },
     "execution_count": 14,
     "metadata": {},
     "output_type": "execute_result"
    }
   ],
   "source": [
    "distances[0] # A dict"
   ]
  },
  {
   "cell_type": "code",
   "execution_count": 15,
   "metadata": {
    "collapsed": true
   },
   "outputs": [],
   "source": [
    "#a = 155.156\n",
    "#b = 184.702\n",
    "#c = 158.231\n",
    "label = ['a','b']"
   ]
  },
  {
   "cell_type": "markdown",
   "metadata": {},
   "source": [
    "# Train a kNN classifier to determine if the audio is 'a' or 'b'"
   ]
  },
  {
   "cell_type": "code",
   "execution_count": 16,
   "metadata": {
    "collapsed": false
   },
   "outputs": [
    {
     "data": {
      "text/plain": [
       "KNeighborsClassifier(algorithm='auto', leaf_size=30, metric='euclidean',\n",
       "           metric_params=None, n_jobs=1, n_neighbors=3, p=2,\n",
       "           weights='uniform')"
      ]
     },
     "execution_count": 16,
     "metadata": {},
     "output_type": "execute_result"
    }
   ],
   "source": [
    "from sklearn.neighbors import KNeighborsClassifier\n",
    "classifier = KNeighborsClassifier(n_neighbors=3,metric='euclidean')\n",
    "classifier.fit(distances, y)"
   ]
  },
  {
   "cell_type": "markdown",
   "metadata": {},
   "source": [
    "# Test a sample from the test folder"
   ]
  },
  {
   "cell_type": "code",
   "execution_count": 17,
   "metadata": {
    "collapsed": false
   },
   "outputs": [],
   "source": [
    "y, sr = librosa.load('test/farw0-b1-t.wav')\n",
    "mfcc = librosa.feature.mfcc(y1, sr1)\n",
    "distanceTest = []\n",
    "for i in range(len(files)):\n",
    "    y1, sr1 = librosa.load(dirname+\"/\"+files[i])\n",
    "    mfcc1 = librosa.feature.mfcc(y1, sr1)\n",
    "    dist, _, _, _ = dtw(mfcc.T, mfcc1.T, dist=lambda x, y: norm(x - y, ord=1))\n",
    "    distanceTest.append(dist)"
   ]
  },
  {
   "cell_type": "markdown",
   "metadata": {},
   "source": [
    "* Warning: DeprecationWarning: Passing 1d arrays as data is deprecated in 0.17 and will raise ValueError in 0.19. Reshape your data either using X.reshape(-1, 1) if your data has a single feature or X.reshape(1, -1) if it contains a single sample. DeprecationWarning)\n",
    "* [Solution](http://blog.csdn.net/qq_21063873/article/details/60963038)"
   ]
  },
  {
   "cell_type": "code",
   "execution_count": 21,
   "metadata": {
    "collapsed": false
   },
   "outputs": [
    {
     "name": "stdout",
     "output_type": "stream",
     "text": [
      "1.0\n"
     ]
    }
   ],
   "source": [
    "# pre = classifier.predict(distanceTest)[0] # False\n",
    "pre = classifier.predict([distanceTest])[0]\n",
    "print(pre)"
   ]
  },
  {
   "cell_type": "code",
   "execution_count": 25,
   "metadata": {
    "collapsed": false
   },
   "outputs": [
    {
     "data": {
      "text/plain": [
       "'b'"
      ]
     },
     "execution_count": 25,
     "metadata": {},
     "output_type": "execute_result"
    }
   ],
   "source": [
    "label[int(pre)]"
   ]
  },
  {
   "cell_type": "code",
   "execution_count": 28,
   "metadata": {
    "collapsed": false
   },
   "outputs": [
    {
     "name": "stdout",
     "output_type": "stream",
     "text": [
      "Predict audio is: 'b'\n"
     ]
    }
   ],
   "source": [
    "print(\"Predict audio is: '{}'\".format(label[int(pre)]))"
   ]
  },
  {
   "cell_type": "code",
   "execution_count": null,
   "metadata": {
    "collapsed": true
   },
   "outputs": [],
   "source": []
  }
 ],
 "metadata": {
  "anaconda-cloud": {},
  "kernelspec": {
   "display_name": "Python [conda root]",
   "language": "python",
   "name": "conda-root-py"
  },
  "language_info": {
   "codemirror_mode": {
    "name": "ipython",
    "version": 3
   },
   "file_extension": ".py",
   "mimetype": "text/x-python",
   "name": "python",
   "nbconvert_exporter": "python",
   "pygments_lexer": "ipython3",
   "version": "3.5.2"
  }
 },
 "nbformat": 4,
 "nbformat_minor": 1
}
